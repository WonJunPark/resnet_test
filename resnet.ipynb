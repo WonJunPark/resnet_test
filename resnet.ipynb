{
  "nbformat": 4,
  "nbformat_minor": 0,
  "metadata": {
    "accelerator": "GPU",
    "colab": {
      "name": "resnet.ipynb",
      "provenance": [],
      "private_outputs": true,
      "collapsed_sections": [],
      "toc_visible": true,
      "include_colab_link": true
    },
    "kernelspec": {
      "display_name": "Python 3",
      "name": "python3"
    }
  },
  "cells": [
    {
      "cell_type": "markdown",
      "metadata": {
        "id": "view-in-github",
        "colab_type": "text"
      },
      "source": [
        "<a href=\"https://colab.research.google.com/github/WonJunPark/resnet_test/blob/main/resnet.ipynb\" target=\"_parent\"><img src=\"https://colab.research.google.com/assets/colab-badge.svg\" alt=\"Open In Colab\"/></a>"
      ]
    },
    {
      "cell_type": "code",
      "metadata": {
        "id": "iAve6DCL4JH4"
      },
      "source": [
        "!pip install tensorflow-gpu==2.0.0-rc1\n",
        "import tensorflow as tf\n",
        "\n",
        "from tensorflow.keras import datasets, layers, models\n",
        "\n",
        "#model = tf.keras.applications.ResNet50(include_top=True, weights = None , classes = 10)\n"
      ],
      "execution_count": null,
      "outputs": []
    },
    {
      "cell_type": "markdown",
      "metadata": {
        "id": "jRFxccghyMVo"
      },
      "source": [
        "### MNIST 데이터셋 다운로드하고 준비하기"
      ]
    },
    {
      "cell_type": "code",
      "metadata": {
        "id": "JWoEqyMuXFF4"
      },
      "source": [
        "from PIL import Image\n",
        "import numpy as np\n",
        "\n",
        "(train_images, train_labels), (test_images, test_labels) = datasets.mnist.load_data()\n",
        "\n",
        "im_size = 224\n",
        "\n",
        "n_samples = 30000\n",
        "tmp_labels = np.zeros(n_samples)\n",
        "tmp_images = []\n",
        "for i in range(n_samples):\n",
        "  tmp_org = train_images[i]\n",
        "  tmp = Image.fromarray(tmp_org)  \n",
        "  tmp = tmp.resize((im_size, im_size))\n",
        "  tmp = np.asarray(tmp)\n",
        "  tmp = np.expand_dims(tmp, axis=-1)\n",
        "  tmp = np.concatenate([tmp, tmp, tmp], axis = 2)\n",
        "    \n",
        "  tmp_images.append(np.expand_dims(tmp, axis=0))\n",
        "  tmp_labels[i] = train_labels[i]\n",
        "  \n",
        "train_images = np.concatenate(tmp_images, axis=0)\n",
        "train_labels = tmp_labels\n",
        "\n",
        "\n",
        "n_samples = 1000\n",
        "tmp_labels = np.zeros(n_samples)\n",
        "tmp_images = []\n",
        "for i in range(n_samples):\n",
        "  tmp_org = test_images[i]\n",
        "  tmp = Image.fromarray(tmp_org)  \n",
        "  tmp = tmp.resize((im_size, im_size))\n",
        "  tmp = np.asarray(tmp)\n",
        "  tmp = np.expand_dims(tmp, axis=-1)\n",
        "  tmp = np.concatenate([tmp, tmp, tmp], axis = 2)\n",
        "    \n",
        "  tmp_images.append(np.expand_dims(tmp, axis=0))\n",
        "  tmp_labels[i] = test_labels[i]\n",
        "  \n",
        "test_images = np.concatenate(tmp_images, axis=0)\n",
        "test_labels = tmp_labels"
      ],
      "execution_count": null,
      "outputs": []
    },
    {
      "cell_type": "code",
      "metadata": {
        "id": "M5m7rmAP0PDO"
      },
      "source": [
        "from PIL import Image\n",
        "import matplotlib.pyplot as plt\n",
        "\n",
        "plt.figure(figsize=(10,10))\n",
        "for i in range(25):\n",
        "    plt.subplot(5,5,i+1)\n",
        "    #plt.xticks([])\n",
        "    #plt.yticks([])\n",
        "    #plt.grid(False)\n",
        "    plt.imshow(train_images[i], cmap=plt.cm.binary)\n",
        "plt.show()\n"
      ],
      "execution_count": null,
      "outputs": []
    },
    {
      "cell_type": "code",
      "metadata": {
        "id": "L9YmGQBQPrdn"
      },
      "source": [
        "#model = tf.keras.applications.ResNet50(include_top=True, weights = 'imagenet' , classes = 1000)\n",
        "#model = tf.keras.applications.VGG19(weights = None)\n",
        "#model = tf.keras.applications.MobileNetV2(weights = None)\n",
        "\n",
        "model = tf.keras.applications.ResNet50(include_top=True, weights = None, classes = 10)\n",
        "model.summary()"
      ],
      "execution_count": null,
      "outputs": []
    },
    {
      "cell_type": "markdown",
      "metadata": {
        "id": "P3odqfHP4M67"
      },
      "source": [
        "### 모델 컴파일과 훈련하기"
      ]
    },
    {
      "cell_type": "code",
      "metadata": {
        "id": "MdDzI75PUXrG"
      },
      "source": [
        "model.compile(optimizer='adam',\n",
        "              loss='sparse_categorical_crossentropy',\n",
        "              metrics=['accuracy'])"
      ],
      "execution_count": null,
      "outputs": []
    },
    {
      "cell_type": "markdown",
      "metadata": {
        "id": "jKgyC5K_4O0d"
      },
      "source": [
        "### 모델 평가"
      ]
    },
    {
      "cell_type": "code",
      "metadata": {
        "id": "gtyDF0MKUcM7"
      },
      "source": [
        "model.fit(train_images,  train_labels, epochs=3, validation_data=(test_images, test_labels))"
      ],
      "execution_count": null,
      "outputs": []
    },
    {
      "cell_type": "code",
      "metadata": {
        "id": "DWCuDe7BNT8I"
      },
      "source": [
        ""
      ],
      "execution_count": null,
      "outputs": []
    }
  ]
}